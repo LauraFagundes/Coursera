{
  "nbformat": 4,
  "nbformat_minor": 0,
  "metadata": {
    "colab": {
      "provenance": []
    },
    "kernelspec": {
      "name": "python3",
      "display_name": "Python 3"
    },
    "language_info": {
      "name": "python"
    }
  },
  "cells": [
    {
      "cell_type": "markdown",
      "source": [
        "# Final Project"
      ],
      "metadata": {
        "id": "YGnXmIA5AF3H"
      }
    },
    {
      "cell_type": "markdown",
      "source": [
        "In this notebook, Data Science Tools and Ecosystem are summarized."
      ],
      "metadata": {
        "id": "avB5Xt-dNc5F"
      }
    },
    {
      "cell_type": "markdown",
      "source": [
        "Objectives:\n",
        "\n",
        "+ unordered listList popular languages for Data Science\n",
        "\n",
        "+ unordered listList popular libraries for Data Science\n",
        "\n",
        "+ demonstrate arithmetic expressions in Python"
      ],
      "metadata": {
        "id": "1BxPBAGTt5uU"
      }
    },
    {
      "cell_type": "markdown",
      "source": [
        "Some of the popular languages that Data Scientists use are:\n",
        "\n",
        "1. Python\n",
        "\n",
        "2. R\n",
        "\n",
        "3. SQL"
      ],
      "metadata": {
        "id": "tP9ClWQRNn3-"
      }
    },
    {
      "cell_type": "markdown",
      "source": [
        "Some of the commonly used libraries used by Data Scientists include:\n",
        "\n",
        "+ NumPy\n",
        "\n",
        "+ Pandas\n",
        "\n",
        "+ scikit-learn"
      ],
      "metadata": {
        "id": "4CZuiO2jN7GY"
      }
    },
    {
      "cell_type": "markdown",
      "source": [
        "| Data Science Tools |\n",
        "| -------------|\n",
        "| Elasticsearch |\n",
        "| IBM - AI Fairness 360 |\n",
        "| Hadoop |"
      ],
      "metadata": {
        "id": "Dx2XTwgAOrt_"
      }
    },
    {
      "cell_type": "markdown",
      "source": [
        "### Below are a few examples of evaluating arithmetic expressions in Python.\n"
      ],
      "metadata": {
        "id": "UKN33Gs2QPmh"
      }
    },
    {
      "cell_type": "code",
      "source": [
        "#This is a simple arithmetic expression to mutiply and then add integers\n",
        "\n",
        "print(3*4+527)"
      ],
      "metadata": {
        "colab": {
          "base_uri": "https://localhost:8080/"
        },
        "id": "51-1d8Oyo-6c",
        "outputId": "d7dc2775-3a7c-4b82-ae2a-41139f210953"
      },
      "execution_count": 3,
      "outputs": [
        {
          "output_type": "stream",
          "name": "stdout",
          "text": [
            "539\n"
          ]
        }
      ]
    },
    {
      "cell_type": "code",
      "source": [
        "# this will convert 180 minutes into hours diving into 60\n",
        "\n",
        "def converter_de_minutos_horas(num_nim):\n",
        "    mhoras = num_nim/ 60\n",
        "    return mhoras\n",
        "\n",
        "print(converter_de_minutos_horas(180))"
      ],
      "metadata": {
        "colab": {
          "base_uri": "https://localhost:8080/"
        },
        "id": "j20NIJyDpzZQ",
        "outputId": "c458df61-7d82-4443-90b3-a7778bb0308a"
      },
      "execution_count": 8,
      "outputs": [
        {
          "output_type": "stream",
          "name": "stdout",
          "text": [
            "3.0\n"
          ]
        }
      ]
    },
    {
      "cell_type": "markdown",
      "source": [
        "## Author: Laura Brito Acker Fagundes"
      ],
      "metadata": {
        "id": "SY_i465FvC6i"
      }
    }
  ]
}